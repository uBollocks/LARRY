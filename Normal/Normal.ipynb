{
 "cells": [
  {
   "cell_type": "markdown",
   "metadata": {},
   "source": [
    "# Machine Learning Model (Logistic Regression)\n",
    "- **ZACHARY NG HUA EN, 26/8/22**"
   ]
  },
  {
   "cell_type": "markdown",
   "metadata": {},
   "source": [
    "<u>**Table of Contents**</u>\n",
    " - <a href=\"#E0\">1. Loading and Cleaning Data</a>\n",
    " - <a href=\"#E1\">2. Supervised Model - Logistic Regression</a>"
   ]
  },
  {
   "cell_type": "markdown",
   "metadata": {},
   "source": [
    "***\n",
    "## <a name=\"E0\">1. Loading And Cleaning Data"
   ]
  },
  {
   "cell_type": "markdown",
   "metadata": {},
   "source": [
    "***\n",
    "#### Install necessary libraries\n",
    "First we will install the necessary libraries to run the following code."
   ]
  },
  {
   "cell_type": "code",
   "execution_count": null,
   "metadata": {},
   "outputs": [],
   "source": [
    "#!pip install numpy\n",
    "#!pip install pandas\n",
    "#!pip install matplotlib\n",
    "#!pip install seaborn\n",
    "#!pip install sklearn"
   ]
  },
  {
   "cell_type": "markdown",
   "metadata": {},
   "source": [
    "***\n",
    "#### Importing libraries\n",
    "Then we will import the libraries we need to run the following code."
   ]
  },
  {
   "cell_type": "code",
   "execution_count": 44,
   "metadata": {},
   "outputs": [],
   "source": [
    "import numpy as np\n",
    "\n",
    "import pandas as pd\n",
    "from scipy import stats\n",
    "import pickle\n",
    "import warnings\n",
    "\n",
    "# Plotting libraries\n",
    "import seaborn as sns\n",
    "import math\n",
    "import matplotlib.pyplot as plt\n",
    "\n",
    "# Sklearn libraries\n",
    "from sklearn.preprocessing import StandardScaler\n",
    "from sklearn.preprocessing import label_binarize\n",
    "from sklearn.model_selection import train_test_split\n",
    "from sklearn.decomposition import PCA\n",
    "from sklearn.linear_model import LogisticRegression\n",
    "from sklearn.cluster import DBSCAN, KMeans\n",
    "from sklearn.metrics import accuracy_score, classification_report, confusion_matrix\n",
    "\n",
    "# Filter warnings\n",
    "warnings.filterwarnings('ignore') #filter warnings\n",
    "# Show plots inline\n",
    "%matplotlib inline"
   ]
  },
  {
   "cell_type": "markdown",
   "metadata": {},
   "source": [
    "***\n",
    "#### Loading Data\n",
    "Here we load the CSV data collected from the Python script into pandas dataframe"
   ]
  },
  {
   "cell_type": "code",
   "execution_count": 118,
   "metadata": {},
   "outputs": [],
   "source": [
    "ping_df = pd.read_csv('ping_training_data.csv', delimiter='\\t')\n",
    "voice_df = pd.read_csv('voice_training_data.csv', delimiter='\\t')\n",
    "dns_df = pd.read_csv('dns_training_data.csv', delimiter='\\t')\n",
    "telnet_df = pd.read_csv('telnet_training_data.csv', delimiter='\\t')\n",
    "df = pd.concat([ping_df, voice_df, dns_df, telnet_df], ignore_index=True)"
   ]
  },
  {
   "cell_type": "markdown",
   "metadata": {},
   "source": [
    "***\n",
    "#### Data Cleaning \n",
    "Drop any rows that contain NaN (no value)"
   ]
  },
  {
   "cell_type": "code",
   "execution_count": 119,
   "metadata": {},
   "outputs": [],
   "source": [
    "df.dropna(inplace=True)"
   ]
  },
  {
   "cell_type": "markdown",
   "metadata": {},
   "source": [
    "***\n",
    "**Drop the Forward Packets, Forward Bytes, Reverse Packets, Reverse Bytes data.**\n",
    "\n",
    "Reason:\n",
    "\n",
    "* This data is not useful as a feature in the model because it increases linearly. \n",
    "*Meaning the value stacks together and at some point in time can have any value."
   ]
  },
  {
   "cell_type": "code",
   "execution_count": 120,
   "metadata": {},
   "outputs": [],
   "source": [
    "df.drop('Forward Packets', axis=1, inplace=True)\n",
    "df.drop('Forward Bytes', axis=1, inplace=True)\n",
    "df.drop('Reverse Packets', axis=1, inplace=True)\n",
    "df.drop('Reverse Bytes', axis=1, inplace=True)"
   ]
  },
  {
   "cell_type": "markdown",
   "metadata": {},
   "source": [
    "***\n",
    "#### Describing Data"
   ]
  },
  {
   "cell_type": "markdown",
   "metadata": {},
   "source": [
    "Check Data for layout: 6412 rows & 13 columns (12 features, 1 target)"
   ]
  },
  {
   "cell_type": "code",
   "execution_count": 121,
   "metadata": {},
   "outputs": [
    {
     "name": "stdout",
     "output_type": "stream",
     "text": [
      "(6412, 13)\n"
     ]
    }
   ],
   "source": [
    "print(df.shape)"
   ]
  },
  {
   "cell_type": "markdown",
   "metadata": {},
   "source": [
    "We can take a look at basic statistical information about our data now."
   ]
  },
  {
   "cell_type": "code",
   "execution_count": 122,
   "metadata": {},
   "outputs": [
    {
     "data": {
      "text/html": [
       "<div>\n",
       "<style scoped>\n",
       "    .dataframe tbody tr th:only-of-type {\n",
       "        vertical-align: middle;\n",
       "    }\n",
       "\n",
       "    .dataframe tbody tr th {\n",
       "        vertical-align: top;\n",
       "    }\n",
       "\n",
       "    .dataframe thead th {\n",
       "        text-align: right;\n",
       "    }\n",
       "</style>\n",
       "<table border=\"1\" class=\"dataframe\">\n",
       "  <thead>\n",
       "    <tr style=\"text-align: right;\">\n",
       "      <th></th>\n",
       "      <th>Delta Forward Packets</th>\n",
       "      <th>Delta Forward Bytes</th>\n",
       "      <th>Forward Instantaneous Packets per Second</th>\n",
       "      <th>Forward Average Packets per second</th>\n",
       "      <th>Forward Instantaneous Bytes per Second</th>\n",
       "      <th>Forward Average Bytes per second</th>\n",
       "      <th>Delta Reverse Packets</th>\n",
       "      <th>Delta Reverse Bytes</th>\n",
       "      <th>DeltaReverse Instantaneous Packets per Second</th>\n",
       "      <th>Reverse Average Packets per second</th>\n",
       "      <th>Reverse Instantaneous Bytes per Second</th>\n",
       "      <th>Reverse Average Bytes per second</th>\n",
       "    </tr>\n",
       "  </thead>\n",
       "  <tbody>\n",
       "    <tr>\n",
       "      <th>count</th>\n",
       "      <td>6412.000000</td>\n",
       "      <td>6412.000000</td>\n",
       "      <td>6412.000000</td>\n",
       "      <td>6412.000000</td>\n",
       "      <td>6412.000000</td>\n",
       "      <td>6412.000000</td>\n",
       "      <td>6412.000000</td>\n",
       "      <td>6412.000000</td>\n",
       "      <td>6412.000000</td>\n",
       "      <td>6412.000000</td>\n",
       "      <td>6412.000000</td>\n",
       "      <td>6412.000000</td>\n",
       "    </tr>\n",
       "    <tr>\n",
       "      <th>mean</th>\n",
       "      <td>3.191204</td>\n",
       "      <td>439.168122</td>\n",
       "      <td>3.173737</td>\n",
       "      <td>3.722254</td>\n",
       "      <td>437.456332</td>\n",
       "      <td>481.372689</td>\n",
       "      <td>5.473175</td>\n",
       "      <td>783.249844</td>\n",
       "      <td>5.351684</td>\n",
       "      <td>5.950523</td>\n",
       "      <td>772.269807</td>\n",
       "      <td>818.036805</td>\n",
       "    </tr>\n",
       "    <tr>\n",
       "      <th>std</th>\n",
       "      <td>12.122056</td>\n",
       "      <td>1702.744559</td>\n",
       "      <td>12.125561</td>\n",
       "      <td>12.302170</td>\n",
       "      <td>1703.111327</td>\n",
       "      <td>1609.315787</td>\n",
       "      <td>15.253437</td>\n",
       "      <td>2214.196676</td>\n",
       "      <td>15.228274</td>\n",
       "      <td>14.971817</td>\n",
       "      <td>2215.671394</td>\n",
       "      <td>2053.271016</td>\n",
       "    </tr>\n",
       "    <tr>\n",
       "      <th>min</th>\n",
       "      <td>0.000000</td>\n",
       "      <td>0.000000</td>\n",
       "      <td>0.000000</td>\n",
       "      <td>0.000000</td>\n",
       "      <td>0.000000</td>\n",
       "      <td>0.000000</td>\n",
       "      <td>0.000000</td>\n",
       "      <td>0.000000</td>\n",
       "      <td>0.000000</td>\n",
       "      <td>0.000000</td>\n",
       "      <td>0.000000</td>\n",
       "      <td>0.000000</td>\n",
       "    </tr>\n",
       "    <tr>\n",
       "      <th>25%</th>\n",
       "      <td>0.000000</td>\n",
       "      <td>0.000000</td>\n",
       "      <td>0.000000</td>\n",
       "      <td>0.333333</td>\n",
       "      <td>0.000000</td>\n",
       "      <td>26.444444</td>\n",
       "      <td>0.000000</td>\n",
       "      <td>0.000000</td>\n",
       "      <td>0.000000</td>\n",
       "      <td>0.285714</td>\n",
       "      <td>0.000000</td>\n",
       "      <td>23.333333</td>\n",
       "    </tr>\n",
       "    <tr>\n",
       "      <th>50%</th>\n",
       "      <td>0.000000</td>\n",
       "      <td>0.000000</td>\n",
       "      <td>0.000000</td>\n",
       "      <td>0.428571</td>\n",
       "      <td>0.000000</td>\n",
       "      <td>37.333333</td>\n",
       "      <td>0.000000</td>\n",
       "      <td>0.000000</td>\n",
       "      <td>0.000000</td>\n",
       "      <td>0.416667</td>\n",
       "      <td>0.000000</td>\n",
       "      <td>34.000000</td>\n",
       "    </tr>\n",
       "    <tr>\n",
       "      <th>75%</th>\n",
       "      <td>1.000000</td>\n",
       "      <td>42.000000</td>\n",
       "      <td>0.500000</td>\n",
       "      <td>0.850000</td>\n",
       "      <td>42.000000</td>\n",
       "      <td>60.774194</td>\n",
       "      <td>1.000000</td>\n",
       "      <td>98.000000</td>\n",
       "      <td>1.000000</td>\n",
       "      <td>0.923077</td>\n",
       "      <td>49.000000</td>\n",
       "      <td>65.333333</td>\n",
       "    </tr>\n",
       "    <tr>\n",
       "      <th>max</th>\n",
       "      <td>149.000000</td>\n",
       "      <td>13167.000000</td>\n",
       "      <td>149.000000</td>\n",
       "      <td>179.000000</td>\n",
       "      <td>13167.000000</td>\n",
       "      <td>15665.000000</td>\n",
       "      <td>149.000000</td>\n",
       "      <td>9834.000000</td>\n",
       "      <td>149.000000</td>\n",
       "      <td>178.000000</td>\n",
       "      <td>9834.000000</td>\n",
       "      <td>11772.000000</td>\n",
       "    </tr>\n",
       "  </tbody>\n",
       "</table>\n",
       "</div>"
      ],
      "text/plain": [
       "       Delta Forward Packets  Delta Forward Bytes  \\\n",
       "count            6412.000000          6412.000000   \n",
       "mean                3.191204           439.168122   \n",
       "std                12.122056          1702.744559   \n",
       "min                 0.000000             0.000000   \n",
       "25%                 0.000000             0.000000   \n",
       "50%                 0.000000             0.000000   \n",
       "75%                 1.000000            42.000000   \n",
       "max               149.000000         13167.000000   \n",
       "\n",
       "       Forward Instantaneous Packets per Second  \\\n",
       "count                               6412.000000   \n",
       "mean                                   3.173737   \n",
       "std                                   12.125561   \n",
       "min                                    0.000000   \n",
       "25%                                    0.000000   \n",
       "50%                                    0.000000   \n",
       "75%                                    0.500000   \n",
       "max                                  149.000000   \n",
       "\n",
       "       Forward Average Packets per second  \\\n",
       "count                         6412.000000   \n",
       "mean                             3.722254   \n",
       "std                             12.302170   \n",
       "min                              0.000000   \n",
       "25%                              0.333333   \n",
       "50%                              0.428571   \n",
       "75%                              0.850000   \n",
       "max                            179.000000   \n",
       "\n",
       "       Forward Instantaneous Bytes per Second  \\\n",
       "count                             6412.000000   \n",
       "mean                               437.456332   \n",
       "std                               1703.111327   \n",
       "min                                  0.000000   \n",
       "25%                                  0.000000   \n",
       "50%                                  0.000000   \n",
       "75%                                 42.000000   \n",
       "max                              13167.000000   \n",
       "\n",
       "       Forward Average Bytes per second  Delta Reverse Packets  \\\n",
       "count                       6412.000000            6412.000000   \n",
       "mean                         481.372689               5.473175   \n",
       "std                         1609.315787              15.253437   \n",
       "min                            0.000000               0.000000   \n",
       "25%                           26.444444               0.000000   \n",
       "50%                           37.333333               0.000000   \n",
       "75%                           60.774194               1.000000   \n",
       "max                        15665.000000             149.000000   \n",
       "\n",
       "       Delta Reverse Bytes  DeltaReverse Instantaneous Packets per Second  \\\n",
       "count          6412.000000                                    6412.000000   \n",
       "mean            783.249844                                       5.351684   \n",
       "std            2214.196676                                      15.228274   \n",
       "min               0.000000                                       0.000000   \n",
       "25%               0.000000                                       0.000000   \n",
       "50%               0.000000                                       0.000000   \n",
       "75%              98.000000                                       1.000000   \n",
       "max            9834.000000                                     149.000000   \n",
       "\n",
       "       Reverse Average Packets per second  \\\n",
       "count                         6412.000000   \n",
       "mean                             5.950523   \n",
       "std                             14.971817   \n",
       "min                              0.000000   \n",
       "25%                              0.285714   \n",
       "50%                              0.416667   \n",
       "75%                              0.923077   \n",
       "max                            178.000000   \n",
       "\n",
       "       Reverse Instantaneous Bytes per Second  \\\n",
       "count                             6412.000000   \n",
       "mean                               772.269807   \n",
       "std                               2215.671394   \n",
       "min                                  0.000000   \n",
       "25%                                  0.000000   \n",
       "50%                                  0.000000   \n",
       "75%                                 49.000000   \n",
       "max                               9834.000000   \n",
       "\n",
       "       Reverse Average Bytes per second  \n",
       "count                       6412.000000  \n",
       "mean                         818.036805  \n",
       "std                         2053.271016  \n",
       "min                            0.000000  \n",
       "25%                           23.333333  \n",
       "50%                           34.000000  \n",
       "75%                           65.333333  \n",
       "max                        11772.000000  "
      ]
     },
     "execution_count": 122,
     "metadata": {},
     "output_type": "execute_result"
    }
   ],
   "source": [
    "df.describe()"
   ]
  },
  {
   "cell_type": "code",
   "execution_count": 123,
   "metadata": {},
   "outputs": [
    {
     "name": "stdout",
     "output_type": "stream",
     "text": [
      "<class 'pandas.core.frame.DataFrame'>\n",
      "RangeIndex: 6412 entries, 0 to 6411\n",
      "Data columns (total 13 columns):\n",
      " #   Column                                         Non-Null Count  Dtype  \n",
      "---  ------                                         --------------  -----  \n",
      " 0   Delta Forward Packets                          6412 non-null   int64  \n",
      " 1   Delta Forward Bytes                            6412 non-null   int64  \n",
      " 2   Forward Instantaneous Packets per Second       6412 non-null   float64\n",
      " 3   Forward Average Packets per second             6412 non-null   float64\n",
      " 4   Forward Instantaneous Bytes per Second         6412 non-null   float64\n",
      " 5   Forward Average Bytes per second               6412 non-null   float64\n",
      " 6   Delta Reverse Packets                          6412 non-null   int64  \n",
      " 7   Delta Reverse Bytes                            6412 non-null   int64  \n",
      " 8   DeltaReverse Instantaneous Packets per Second  6412 non-null   float64\n",
      " 9   Reverse Average Packets per second             6412 non-null   float64\n",
      " 10  Reverse Instantaneous Bytes per Second         6412 non-null   float64\n",
      " 11  Reverse Average Bytes per second               6412 non-null   float64\n",
      " 12  Traffic Type                                   6412 non-null   object \n",
      "dtypes: float64(8), int64(4), object(1)\n",
      "memory usage: 651.3+ KB\n"
     ]
    }
   ],
   "source": [
    "df.info()"
   ]
  },
  {
   "cell_type": "markdown",
   "metadata": {},
   "source": [
    "The type of the traffic column is object. We will convert this to a category so we can use `.cat` functionalities (Functions specific to categories)."
   ]
  },
  {
   "cell_type": "code",
   "execution_count": 124,
   "metadata": {},
   "outputs": [],
   "source": [
    "df['Traffic Type'] = df['Traffic Type'].astype('category')"
   ]
  },
  {
   "cell_type": "markdown",
   "metadata": {},
   "source": [
    "We can view all the types using `.cat.categories`:"
   ]
  },
  {
   "cell_type": "code",
   "execution_count": 125,
   "metadata": {},
   "outputs": [
    {
     "data": {
      "text/plain": [
       "Index(['dns', 'ping', 'telnet', 'voice'], dtype='object')"
      ]
     },
     "execution_count": 125,
     "metadata": {},
     "output_type": "execute_result"
    }
   ],
   "source": [
    "df['Traffic Type'].cat.categories"
   ]
  },
  {
   "cell_type": "markdown",
   "metadata": {},
   "source": [
    "We can also get the data coded numerically using `.cat.codes`"
   ]
  },
  {
   "cell_type": "code",
   "execution_count": 126,
   "metadata": {},
   "outputs": [
    {
     "data": {
      "text/plain": [
       "0    1\n",
       "1    1\n",
       "2    1\n",
       "3    1\n",
       "4    1\n",
       "dtype: int8"
      ]
     },
     "execution_count": 126,
     "metadata": {},
     "output_type": "execute_result"
    }
   ],
   "source": [
    "df['Traffic Type'].cat.codes.head()"
   ]
  },
  {
   "cell_type": "markdown",
   "metadata": {},
   "source": [
    "The following features will be used in the model"
   ]
  },
  {
   "cell_type": "code",
   "execution_count": 127,
   "metadata": {},
   "outputs": [
    {
     "name": "stdout",
     "output_type": "stream",
     "text": [
      "Features: ['Delta Forward Packets' 'Delta Forward Bytes'\n",
      " 'Forward Instantaneous Packets per Second'\n",
      " 'Forward Average Packets per second'\n",
      " 'Forward Instantaneous Bytes per Second'\n",
      " 'Forward Average Bytes per second' 'Delta Reverse Packets'\n",
      " 'Delta Reverse Bytes' 'DeltaReverse Instantaneous Packets per Second'\n",
      " 'Reverse Average Packets per second'\n",
      " 'Reverse Instantaneous Bytes per Second'\n",
      " 'Reverse Average Bytes per second']\n"
     ]
    }
   ],
   "source": [
    "print('Features:',df.columns[:-1].values)"
   ]
  },
  {
   "cell_type": "markdown",
   "metadata": {},
   "source": [
    "These are the counts of each type of traffic"
   ]
  },
  {
   "cell_type": "code",
   "execution_count": 128,
   "metadata": {},
   "outputs": [
    {
     "name": "stdout",
     "output_type": "stream",
     "text": [
      "Value counts:\n"
     ]
    },
    {
     "data": {
      "text/plain": [
       "ping      4766\n",
       "voice     1110\n",
       "dns        444\n",
       "telnet      92\n",
       "Name: Traffic Type, dtype: int64"
      ]
     },
     "execution_count": 128,
     "metadata": {},
     "output_type": "execute_result"
    }
   ],
   "source": [
    "print ('Value counts:')\n",
    "df['Traffic Type'].value_counts()"
   ]
  },
  {
   "cell_type": "markdown",
   "metadata": {},
   "source": [
    "*** **\n",
    "## <a name=\"E1\"> 2. Supervised Model - Logistic Regression "
   ]
  },
  {
   "cell_type": "markdown",
   "metadata": {},
   "source": [
    "*Stage 2: Making the model from our data*\n",
    "\n",
    "***We make our logistic regression model by splitting it into a training and testing set.***"
   ]
  },
  {
   "cell_type": "markdown",
   "metadata": {},
   "source": [
    "***\n",
    "### Split dataset\n",
    "First we will split the dataset into features and targets."
   ]
  },
  {
   "cell_type": "code",
   "execution_count": 129,
   "metadata": {},
   "outputs": [],
   "source": [
    "X = df.drop('Traffic Type',axis=1)\n",
    "y = df['Traffic Type']"
   ]
  },
  {
   "cell_type": "markdown",
   "metadata": {},
   "source": [
    "***\n",
    "**SMOTE (Synthetic Minority Oversampling Technique)**\n",
    "\n",
    "If enabled this will cause our sample size to synthesis new data for lower values.\n",
    "\n",
    "\n",
    "\n",
    "*If you want to see a visual display of data use it without SMOTE.*\n",
    "\n",
    "*PCA Line graph will not work with this so only run to create a more accurate model.*"
   ]
  },
  {
   "cell_type": "code",
   "execution_count": 130,
   "metadata": {},
   "outputs": [
    {
     "name": "stdout",
     "output_type": "stream",
     "text": [
      "Counter({'ping': 4766, 'voice': 4766, 'dns': 4766, 'telnet': 4766})\n"
     ]
    }
   ],
   "source": [
    "# Oversample and plot imbalanced dataset with SMOTE\n",
    "from collections import Counter\n",
    "from sklearn.datasets import make_classification\n",
    "from imblearn.over_sampling import SMOTE\n",
    "from matplotlib import pyplot\n",
    "from numpy import where\n",
    "\n",
    "os = SMOTE(random_state=0)\n",
    "\n",
    "# transform the dataset\n",
    "oversample = SMOTE()\n",
    "X, y = oversample.fit_resample(X, y)\n",
    "# summarize the new class distribution\n",
    "counter = Counter(y)\n",
    "print(counter)"
   ]
  },
  {
   "cell_type": "markdown",
   "metadata": {},
   "source": [
    "#### Create training and testing sets\n",
    "*We will use train_test_split with test size of 0.3 to put 70% of our data into training, and 30% into testing.* \n",
    "\n",
    "The random_state is set so the results are repeatable."
   ]
  },
  {
   "cell_type": "code",
   "execution_count": 131,
   "metadata": {},
   "outputs": [],
   "source": [
    "X_train, X_test, y_train, y_test = train_test_split(X,y,test_size=0.5, random_state=101)"
   ]
  },
  {
   "cell_type": "markdown",
   "metadata": {},
   "source": [
    "***\n",
    "**RECURSIVE FEATURE ELIMINATION**"
   ]
  },
  {
   "cell_type": "code",
   "execution_count": 133,
   "metadata": {},
   "outputs": [
    {
     "name": "stdout",
     "output_type": "stream",
     "text": [
      "Column: Delta Forward Packets, Selected True, Rank: 1.000\n",
      "Column: Delta Forward Bytes, Selected False, Rank: 6.000\n",
      "Column: Forward Instantaneous Packets per Second, Selected True, Rank: 1.000\n",
      "Column: Forward Average Packets per second, Selected False, Rank: 2.000\n",
      "Column: Forward Instantaneous Bytes per Second, Selected False, Rank: 5.000\n",
      "Column: Forward Average Bytes per second, Selected False, Rank: 8.000\n",
      "Column: Delta Reverse Packets, Selected False, Rank: 3.000\n",
      "Column: Delta Reverse Bytes, Selected False, Rank: 9.000\n",
      "Column: DeltaReverse Instantaneous Packets per Second, Selected False, Rank: 4.000\n",
      "Column: Reverse Average Packets per second, Selected True, Rank: 1.000\n",
      "Column: Reverse Instantaneous Bytes per Second, Selected False, Rank: 10.000\n",
      "Column: Reverse Average Bytes per second, Selected False, Rank: 7.000\n",
      "The optimal number of features: 3\n",
      "Best features: Index(['Delta Forward Packets', 'Forward Instantaneous Packets per Second',\n",
      "       'Reverse Average Packets per second'],\n",
      "      dtype='object')\n"
     ]
    }
   ],
   "source": [
    "# This will take some time\n",
    "from sklearn.pipeline import Pipeline\n",
    "from sklearn.model_selection import RepeatedStratifiedKFold\n",
    "from sklearn.model_selection import cross_val_score\n",
    "from sklearn.feature_selection import RFE\n",
    "import numpy as np\n",
    "from sklearn.ensemble import GradientBoostingClassifier\n",
    "\n",
    "# create pipeline\n",
    "# chosen algorithm specified via the “estimator”|\n",
    "rfe = RFE(estimator=LogisticRegression(solver='liblinear'), n_features_to_select=3)\n",
    "# fit the model\n",
    "rfe.fit(X_train,y_train)\n",
    "for i in range(X.shape[1]):\n",
    "    print('Column: %s, Selected %s, Rank: %.3f' % (X_train.columns[i], rfe.support_[i],rfe.ranking_[i]))\n",
    "print(\"The optimal number of features:\", rfe.n_features_)\n",
    "print(\"Best features:\", X_train.columns[rfe.support_])"
   ]
  },
  {
   "cell_type": "markdown",
   "metadata": {},
   "source": [
    "***\n",
    "### Train Model/ Model Building \n",
    "Now we will create and train the model."
   ]
  },
  {
   "cell_type": "code",
   "execution_count": 106,
   "metadata": {},
   "outputs": [],
   "source": [
    "model = LogisticRegression(solver='liblinear')"
   ]
  },
  {
   "cell_type": "code",
   "execution_count": 107,
   "metadata": {},
   "outputs": [
    {
     "data": {
      "text/plain": [
       "LogisticRegression(solver='liblinear')"
      ]
     },
     "execution_count": 107,
     "metadata": {},
     "output_type": "execute_result"
    }
   ],
   "source": [
    "model.fit(X_train,y_train)"
   ]
  },
  {
   "cell_type": "markdown",
   "metadata": {},
   "source": [
    "***\n",
    "#### Make predictions\n",
    "Single prediction"
   ]
  },
  {
   "cell_type": "code",
   "execution_count": 108,
   "metadata": {},
   "outputs": [],
   "source": [
    "idx = 2590 #random number\n",
    "single_x_test = [df.iloc[idx].drop('Traffic Type').tolist()]\n",
    "single_y_test = df.iloc[idx]['Traffic Type']"
   ]
  },
  {
   "cell_type": "code",
   "execution_count": 109,
   "metadata": {},
   "outputs": [
    {
     "name": "stdout",
     "output_type": "stream",
     "text": [
      "For this sample, our model predicted ping and it was actually ping\n"
     ]
    }
   ],
   "source": [
    "single_prediction = model.predict(single_x_test)\n",
    "print('For this sample, our model predicted %s and it was actually %s' % (single_prediction[0], single_y_test))"
   ]
  },
  {
   "cell_type": "markdown",
   "metadata": {},
   "source": [
    "Entire test set"
   ]
  },
  {
   "cell_type": "code",
   "execution_count": 110,
   "metadata": {},
   "outputs": [],
   "source": [
    "predictions = model.predict(X_test)"
   ]
  },
  {
   "cell_type": "markdown",
   "metadata": {},
   "source": [
    "We can create a dataframe to see these in table form:"
   ]
  },
  {
   "cell_type": "code",
   "execution_count": 111,
   "metadata": {},
   "outputs": [
    {
     "data": {
      "text/html": [
       "<div>\n",
       "<style scoped>\n",
       "    .dataframe tbody tr th:only-of-type {\n",
       "        vertical-align: middle;\n",
       "    }\n",
       "\n",
       "    .dataframe tbody tr th {\n",
       "        vertical-align: top;\n",
       "    }\n",
       "\n",
       "    .dataframe thead th {\n",
       "        text-align: right;\n",
       "    }\n",
       "</style>\n",
       "<table border=\"1\" class=\"dataframe\">\n",
       "  <thead>\n",
       "    <tr style=\"text-align: right;\">\n",
       "      <th></th>\n",
       "      <th>true</th>\n",
       "      <th>predicted</th>\n",
       "    </tr>\n",
       "  </thead>\n",
       "  <tbody>\n",
       "    <tr>\n",
       "      <th>2762</th>\n",
       "      <td>ping</td>\n",
       "      <td>ping</td>\n",
       "    </tr>\n",
       "    <tr>\n",
       "      <th>15537</th>\n",
       "      <td>voice</td>\n",
       "      <td>voice</td>\n",
       "    </tr>\n",
       "    <tr>\n",
       "      <th>541</th>\n",
       "      <td>ping</td>\n",
       "      <td>ping</td>\n",
       "    </tr>\n",
       "    <tr>\n",
       "      <th>17665</th>\n",
       "      <td>voice</td>\n",
       "      <td>voice</td>\n",
       "    </tr>\n",
       "    <tr>\n",
       "      <th>5098</th>\n",
       "      <td>voice</td>\n",
       "      <td>voice</td>\n",
       "    </tr>\n",
       "  </tbody>\n",
       "</table>\n",
       "</div>"
      ],
      "text/plain": [
       "        true predicted\n",
       "2762    ping      ping\n",
       "15537  voice     voice\n",
       "541     ping      ping\n",
       "17665  voice     voice\n",
       "5098   voice     voice"
      ]
     },
     "execution_count": 111,
     "metadata": {},
     "output_type": "execute_result"
    }
   ],
   "source": [
    "resultsDF = pd.DataFrame({\n",
    "        'true':y_test,\n",
    "        'predicted':predictions\n",
    "    })\n",
    "resultsDF.head()"
   ]
  },
  {
   "cell_type": "markdown",
   "metadata": {},
   "source": [
    "We see the model has a <b>98.37%</b> accuracy (May vary if you utilise additional methods eg. SMOTE)"
   ]
  },
  {
   "cell_type": "code",
   "execution_count": 112,
   "metadata": {},
   "outputs": [
    {
     "name": "stdout",
     "output_type": "stream",
     "text": [
      "Accuracy: 98.37%\n"
     ]
    }
   ],
   "source": [
    "print('Accuracy: %.2f%%' % (accuracy_score(predictions,y_test)*100))"
   ]
  },
  {
   "cell_type": "markdown",
   "metadata": {},
   "source": [
    "We can save the model using the pickle library to use later in real-time"
   ]
  },
  {
   "cell_type": "code",
   "execution_count": 113,
   "metadata": {},
   "outputs": [
    {
     "name": "stdout",
     "output_type": "stream",
     "text": [
      "4.0\n"
     ]
    }
   ],
   "source": [
    "print(pickle.format_version)"
   ]
  },
  {
   "cell_type": "code",
   "execution_count": 115,
   "metadata": {},
   "outputs": [],
   "source": [
    "pickle.dump(model,open('TestLogisticRegression','wb'))"
   ]
  },
  {
   "cell_type": "markdown",
   "metadata": {},
   "source": [
    "***\n",
    "### Model Testing\n",
    "Show the results of the prediction on a plot.\n",
    "\n",
    "This phase is meant to be re-run again and again to re-train our model.\n"
   ]
  },
  {
   "cell_type": "markdown",
   "metadata": {},
   "source": [
    "***\n",
    "#### Confusion Matrix\n",
    "The confusion matrix allows you to see the numerical breakdown of the predictions by class:"
   ]
  },
  {
   "cell_type": "code",
   "execution_count": 68,
   "metadata": {},
   "outputs": [
    {
     "name": "stdout",
     "output_type": "stream",
     "text": [
      "[[  91    0    1    1]\n",
      " [ 104 2415    0    6]\n",
      " [   0    0   43    0]\n",
      " [   9    0    1  535]]\n"
     ]
    }
   ],
   "source": [
    "cm = confusion_matrix(predictions,y_test, labels=y.cat.categories)\n",
    "print(cm)"
   ]
  },
  {
   "cell_type": "markdown",
   "metadata": {},
   "source": [
    "To attach labels, we can view it as a dataframe:"
   ]
  },
  {
   "cell_type": "code",
   "execution_count": 69,
   "metadata": {},
   "outputs": [
    {
     "name": "stdout",
     "output_type": "stream",
     "text": [
      "        dns  ping  telnet  voice\n",
      "dns      91     0       1      1\n",
      "ping    104  2415       0      6\n",
      "telnet    0     0      43      0\n",
      "voice     9     0       1    535\n"
     ]
    }
   ],
   "source": [
    "cmDF = pd.DataFrame()\n",
    "\n",
    "for i, row in enumerate(y.cat.categories):\n",
    "    temp = {}\n",
    "    for j, col in enumerate(y.cat.categories): \n",
    "        temp[col]=cm[i,j]\n",
    "    cmDF = cmDF.append(pd.DataFrame.from_dict({row:temp}, orient='index'))\n",
    "\n",
    "print(cmDF)"
   ]
  },
  {
   "cell_type": "markdown",
   "metadata": {},
   "source": [
    "We can also add a heatmap to better visualize it"
   ]
  },
  {
   "cell_type": "code",
   "execution_count": 70,
   "metadata": {},
   "outputs": [
    {
     "data": {
      "image/png": "[encoded data removed]",
      "text/plain": [
       "<Figure size 432x432 with 2 Axes>"
      ]
     },
     "metadata": {
      "needs_background": "light"
     },
     "output_type": "display_data"
    }
   ],
   "source": [
    "plt.figure(figsize=(6,6))\n",
    "plt.imshow(cm, interpolation='nearest', cmap=plt.cm.Blues)\n",
    "plt.title('Confusion Matrix', fontsize=15)\n",
    "plt.colorbar()\n",
    "tick_marks = np.arange(len(y.unique()))\n",
    "plt.xticks(tick_marks, y.unique(), rotation=45, fontsize=12)\n",
    "plt.yticks(tick_marks, y.unique(), fontsize=12)\n",
    "plt.xlabel('True Label', fontsize=15)\n",
    "plt.ylabel('Predicted Label', fontsize=15)\n",
    "\n",
    "for i in range(len(cm)):\n",
    "    for j in range(len(cm[i])):\n",
    "        color = 'black'   \n",
    "        if cm[i][j] > 5:\n",
    "            color = 'red'\n",
    "        plt.text(j, i, format(cm[i][j]), \n",
    "                horizontalalignment='center',\n",
    "                color=color, fontsize=15)\n"
   ]
  },
  {
   "cell_type": "markdown",
   "metadata": {},
   "source": [
    "We can see the model works well for all classes."
   ]
  },
  {
   "cell_type": "markdown",
   "metadata": {},
   "source": [
    "***\n",
    "### Extension: Principal Component Analysis\n",
    "\n",
    "A dimension reduction technique meant for large datsets.\n",
    "\n",
    "*Your data are broken down into principle components, each of which combines the features of the dataset by their correlation into components.* \n",
    "*These hold the dataset's variance (aka. spread of data)*"
   ]
  },
  {
   "cell_type": "markdown",
   "metadata": {},
   "source": [
    "***\n",
    "#### Normalize data\n",
    "Now, the data must be scaled to fit inside the same range. \n",
    "\n",
    "Meaning must scale the data so that they fall within the same range for PCA to function properly and determine the appropriate covariance among all the features. \n",
    "\n",
    "By doing this, one feature won't be able to influence the final components more.\n",
    "\n",
    "The `StandardScaler Class` from sklearn will remove the mean and scale the data so the have unit variance."
   ]
  },
  {
   "cell_type": "code",
   "execution_count": 71,
   "metadata": {},
   "outputs": [
    {
     "data": {
      "text/plain": [
       "array([[0., 0., 0., 0., 0., 0., 0., 0., 0., 0., 0., 0.],\n",
       "       [0., 0., 0., 0., 0., 0., 0., 0., 0., 0., 0., 0.],\n",
       "       [0., 0., 0., 0., 0., 0., 0., 0., 0., 0., 0., 0.],\n",
       "       [0., 0., 0., 0., 0., 0., 0., 0., 0., 0., 0., 0.],\n",
       "       [0., 0., 0., 0., 0., 0., 0., 0., 0., 0., 0., 0.]])"
      ]
     },
     "execution_count": 71,
     "metadata": {},
     "output_type": "execute_result"
    }
   ],
   "source": [
    "df.drop('Traffic Type',axis=1).values[0:5]"
   ]
  },
  {
   "cell_type": "markdown",
   "metadata": {},
   "source": [
    "Here are the means/std per feature."
   ]
  },
  {
   "cell_type": "code",
   "execution_count": 72,
   "metadata": {},
   "outputs": [
    {
     "data": {
      "text/plain": [
       "array([  3.19120399, 439.16812227,   3.17373674,   3.72225357,\n",
       "       437.45633188, 481.37268935,   5.4731753 , 783.24984404,\n",
       "         5.35168434,   5.95052253, 772.26980661, 818.03680499])"
      ]
     },
     "execution_count": 72,
     "metadata": {},
     "output_type": "execute_result"
    }
   ],
   "source": [
    "df.drop('Traffic Type',axis=1).values.mean(axis=0)"
   ]
  },
  {
   "cell_type": "code",
   "execution_count": 73,
   "metadata": {},
   "outputs": [
    {
     "data": {
      "text/plain": [
       "array([  12.12111103, 1702.61177563,   12.12461585,   12.30121093,\n",
       "       1702.97851503, 1609.1902894 ,   15.25224785, 2214.02400866,\n",
       "         15.22708618,   14.97064918, 2215.49861177, 2053.11089791])"
      ]
     },
     "execution_count": 73,
     "metadata": {},
     "output_type": "execute_result"
    }
   ],
   "source": [
    "df.drop('Traffic Type',axis=1).values.std(axis=0)"
   ]
  },
  {
   "cell_type": "markdown",
   "metadata": {},
   "source": [
    "Here, we fit the scaler."
   ]
  },
  {
   "cell_type": "code",
   "execution_count": 74,
   "metadata": {},
   "outputs": [
    {
     "data": {
      "text/plain": [
       "StandardScaler()"
      ]
     },
     "execution_count": 74,
     "metadata": {},
     "output_type": "execute_result"
    }
   ],
   "source": [
    "scaler = StandardScaler()\n",
    "scaler.fit(df.drop('Traffic Type',axis=1))"
   ]
  },
  {
   "cell_type": "code",
   "execution_count": 75,
   "metadata": {},
   "outputs": [
    {
     "data": {
      "text/plain": [
       "array([[-0.26327653, -0.25793791, -0.26175978, -0.30259245, -0.25687719,\n",
       "        -0.29913969, -0.35884385, -0.35376755, -0.3514582 , -0.39747926,\n",
       "        -0.34857607, -0.39843771],\n",
       "       [-0.26327653, -0.25793791, -0.26175978, -0.30259245, -0.25687719,\n",
       "        -0.29913969, -0.35884385, -0.35376755, -0.3514582 , -0.39747926,\n",
       "        -0.34857607, -0.39843771],\n",
       "       [-0.26327653, -0.25793791, -0.26175978, -0.30259245, -0.25687719,\n",
       "        -0.29913969, -0.35884385, -0.35376755, -0.3514582 , -0.39747926,\n",
       "        -0.34857607, -0.39843771],\n",
       "       [-0.26327653, -0.25793791, -0.26175978, -0.30259245, -0.25687719,\n",
       "        -0.29913969, -0.35884385, -0.35376755, -0.3514582 , -0.39747926,\n",
       "        -0.34857607, -0.39843771],\n",
       "       [-0.26327653, -0.25793791, -0.26175978, -0.30259245, -0.25687719,\n",
       "        -0.29913969, -0.35884385, -0.35376755, -0.3514582 , -0.39747926,\n",
       "        -0.34857607, -0.39843771]])"
      ]
     },
     "execution_count": 75,
     "metadata": {},
     "output_type": "execute_result"
    }
   ],
   "source": [
    "scaled_data = scaler.transform(df.drop('Traffic Type',axis=1))\n",
    "scaled_data[0:5]"
   ]
  },
  {
   "cell_type": "markdown",
   "metadata": {},
   "source": [
    "Here are the new means and standard deviation per feature."
   ]
  },
  {
   "cell_type": "code",
   "execution_count": 76,
   "metadata": {},
   "outputs": [
    {
     "data": {
      "text/plain": [
       "array([ 5.31909721e-17,  0.00000000e+00,  0.00000000e+00,  1.77303240e-17,\n",
       "       -3.54606481e-17,  7.09212961e-17, -3.54606481e-17,  3.54606481e-17,\n",
       "        3.54606481e-17,  0.00000000e+00,  1.06381944e-16,  0.00000000e+00])"
      ]
     },
     "execution_count": 76,
     "metadata": {},
     "output_type": "execute_result"
    }
   ],
   "source": [
    "scaled_data.mean(axis=0)"
   ]
  },
  {
   "cell_type": "code",
   "execution_count": 77,
   "metadata": {},
   "outputs": [
    {
     "data": {
      "text/plain": [
       "array([1., 1., 1., 1., 1., 1., 1., 1., 1., 1., 1., 1.])"
      ]
     },
     "execution_count": 77,
     "metadata": {},
     "output_type": "execute_result"
    }
   ],
   "source": [
    "scaled_data.std(axis=0)"
   ]
  },
  {
   "cell_type": "markdown",
   "metadata": {},
   "source": [
    "Now we will fit PCA model to the data. We will specify n_components=2, because we only want the first 2 principal components."
   ]
  },
  {
   "cell_type": "code",
   "execution_count": 78,
   "metadata": {},
   "outputs": [
    {
     "data": {
      "text/plain": [
       "PCA(n_components=2)"
      ]
     },
     "execution_count": 78,
     "metadata": {},
     "output_type": "execute_result"
    }
   ],
   "source": [
    "pca = PCA(n_components=2)\n",
    "pca.fit(scaled_data)"
   ]
  },
  {
   "cell_type": "code",
   "execution_count": 79,
   "metadata": {},
   "outputs": [
    {
     "data": {
      "text/plain": [
       "(6412, 12)"
      ]
     },
     "execution_count": 79,
     "metadata": {},
     "output_type": "execute_result"
    }
   ],
   "source": [
    "scaled_data.shape"
   ]
  },
  {
   "cell_type": "code",
   "execution_count": 80,
   "metadata": {},
   "outputs": [],
   "source": [
    "x_pca = pca.transform(scaled_data)"
   ]
  },
  {
   "cell_type": "code",
   "execution_count": 81,
   "metadata": {},
   "outputs": [
    {
     "data": {
      "text/plain": [
       "(6412, 2)"
      ]
     },
     "execution_count": 81,
     "metadata": {},
     "output_type": "execute_result"
    }
   ],
   "source": [
    "x_pca.shape"
   ]
  },
  {
   "cell_type": "markdown",
   "metadata": {},
   "source": [
    "***\n",
    "#### Explained Variance"
   ]
  },
  {
   "cell_type": "code",
   "execution_count": 82,
   "metadata": {},
   "outputs": [
    {
     "data": {
      "text/plain": [
       "array([0.49629411, 0.43610031])"
      ]
     },
     "execution_count": 82,
     "metadata": {},
     "output_type": "execute_result"
    }
   ],
   "source": [
    "pca.explained_variance_ratio_"
   ]
  },
  {
   "cell_type": "code",
   "execution_count": 83,
   "metadata": {},
   "outputs": [
    {
     "data": {
      "text/plain": [
       "93.23944178756778"
      ]
     },
     "execution_count": 83,
     "metadata": {},
     "output_type": "execute_result"
    }
   ],
   "source": [
    "pca.explained_variance_ratio_.sum()*100"
   ]
  },
  {
   "cell_type": "markdown",
   "metadata": {},
   "source": [
    "From above you can see that our first 2 principal components explain 93.23% of the variance in our data. We can get higher variance explained by increasing the number of principal components to a maximum of 100% with n_components = n_features."
   ]
  },
  {
   "cell_type": "markdown",
   "metadata": {},
   "source": [
    "***\n",
    "#### Plotting the principal components"
   ]
  },
  {
   "cell_type": "code",
   "execution_count": 84,
   "metadata": {},
   "outputs": [
    {
     "data": {
      "text/plain": [
       "<matplotlib.legend.Legend at 0x7f1a9b6ccc40>"
      ]
     },
     "execution_count": 84,
     "metadata": {},
     "output_type": "execute_result"
    },
    {
     "data": {
      "image/png": "[encoded data removed]",
      "text/plain": [
       "<Figure size 720x432 with 1 Axes>"
      ]
     },
     "metadata": {
      "needs_background": "light"
     },
     "output_type": "display_data"
    }
   ],
   "source": [
    "fig = plt.figure(figsize=(10,6))\n",
    "sns.scatterplot(x_pca[:,0], x_pca[:,1], hue=df['Traffic Type'])\n",
    "plt.xlabel('First Principal Component', fontsize=15)\n",
    "plt.ylabel('Second Principal Component', fontsize=15)\n",
    "plt.legend(fontsize=15)"
   ]
  },
  {
   "cell_type": "markdown",
   "metadata": {},
   "source": [
    "From this plot, we can see voice and ping are easy to identify using first 2 principle components. Ping is difficult. That is why we use all the features in our data not just first two components. "
   ]
  },
  {
   "cell_type": "markdown",
   "metadata": {},
   "source": [
    "***\n",
    "#### Decision Boundary w/ PCA\n",
    "Where the model transitions from forecasting one class to another is known as the decision boundary. We shall once more employ the principle components obtained above for training for visual representational purposes. \n",
    "\n",
    "In this manner, we are able to train a model with only two features and see the decision boundary in two dimensions. However, since the actual model would make use of all the features, the decision boundary can change.\n",
    "\n",
    "We will follow the same steps as above for training a model. We use the coded y as the contour plot that we use below prefers numerical values."
   ]
  },
  {
   "cell_type": "code",
   "execution_count": 85,
   "metadata": {},
   "outputs": [],
   "source": [
    "X_train, X_test, y_train, y_test = train_test_split(x_pca,y.cat.codes,test_size=0.3, random_state=101)"
   ]
  },
  {
   "cell_type": "code",
   "execution_count": 86,
   "metadata": {},
   "outputs": [
    {
     "data": {
      "text/plain": [
       "LogisticRegression()"
      ]
     },
     "execution_count": 86,
     "metadata": {},
     "output_type": "execute_result"
    }
   ],
   "source": [
    "model = LogisticRegression()\n",
    "model.fit(X_train,y_train)"
   ]
  },
  {
   "cell_type": "markdown",
   "metadata": {},
   "source": [
    "The accuracy value is lower when we only use the first 2 principle components, as opposed to the full set of features. Again, this is just for visualization purposes."
   ]
  },
  {
   "cell_type": "code",
   "execution_count": 87,
   "metadata": {},
   "outputs": [
    {
     "name": "stdout",
     "output_type": "stream",
     "text": [
      "Accuracy: 93.61%\n"
     ]
    }
   ],
   "source": [
    "predictions = model.predict(X_test)\n",
    "print('Accuracy: %.2f%%' % (accuracy_score(predictions,y_test)*100))"
   ]
  },
  {
   "cell_type": "markdown",
   "metadata": {},
   "source": [
    "***\n",
    "#### Plotting\n",
    "We will first generate a grid of x[0] and x[1] values that we will use to make predictions with."
   ]
  },
  {
   "cell_type": "code",
   "execution_count": 88,
   "metadata": {},
   "outputs": [],
   "source": [
    "x_min = x_pca[:,0].min()\n",
    "x_max = x_pca[:,0].max()\n",
    "y_min = x_pca[:,1].min()\n",
    "y_max = x_pca[:,1].max()\n",
    "spacing = 0.01"
   ]
  },
  {
   "cell_type": "code",
   "execution_count": 89,
   "metadata": {},
   "outputs": [],
   "source": [
    "xx, yy = np.meshgrid(np.arange(x_min, x_max, spacing), np.arange(y_min, y_max, spacing))"
   ]
  },
  {
   "cell_type": "markdown",
   "metadata": {},
   "source": [
    "Now we will make predictions on the grid that we created. The `ravel` function just makes the 2D array that we have above into a 1D array. We will reshape the predictions Z into a 2D array afterwards for plotting"
   ]
  },
  {
   "cell_type": "code",
   "execution_count": 90,
   "metadata": {},
   "outputs": [],
   "source": [
    "Z = model.predict(np.c_[xx.ravel(), yy.ravel()])\n",
    "Z = Z.reshape(xx.shape)"
   ]
  },
  {
   "cell_type": "markdown",
   "metadata": {},
   "source": [
    "Now we will plot the data, and the decision boundaries."
   ]
  },
  {
   "cell_type": "code",
   "execution_count": 91,
   "metadata": {},
   "outputs": [
    {
     "data": {
      "text/plain": [
       "<matplotlib.legend.Legend at 0x7f1a9b610700>"
      ]
     },
     "execution_count": 91,
     "metadata": {},
     "output_type": "execute_result"
    },
    {
     "data": {
      "image/png": "[encoded data removed]",
      "text/plain": [
       "<Figure size 720x432 with 1 Axes>"
      ]
     },
     "metadata": {
      "needs_background": "light"
     },
     "output_type": "display_data"
    }
   ],
   "source": [
    "plt.figure(figsize=(10,6))\n",
    "plt.contourf(xx, yy, Z, cmap=plt.cm.Spectral)\n",
    "sns.scatterplot(x_pca[:,0], x_pca[:,1], hue=df['Traffic Type'], cmap=plt.cm.Spectral)\n",
    "plt.title('Decision Boundaries', fontsize=15)\n",
    "plt.xlabel('First Principal Component', fontsize=15)\n",
    "plt.ylabel('Second Principal Component', fontsize=15)\n",
    "plt.tight_layout()\n",
    "plt.xlim([x_min,x_max])\n",
    "plt.ylim([y_min,y_max])\n",
    "plt.legend(fontsize=15)"
   ]
  },
  {
   "cell_type": "markdown",
   "metadata": {},
   "source": [
    "From the above you can see the decision splits. DNS and Telnet traffic are easily classifiable. Ping and Voice are harder to distinguish with only 2 components. "
   ]
  }
 ],
 "metadata": {
  "kernelspec": {
   "display_name": "Python 3",
   "language": "python",
   "name": "python3"
  },
  "language_info": {
   "codemirror_mode": {
    "name": "ipython",
    "version": 3
   },
   "file_extension": ".py",
   "mimetype": "text/x-python",
   "name": "python",
   "nbconvert_exporter": "python",
   "pygments_lexer": "ipython3",
   "version": "3.8.8"
  }
 },
 "nbformat": 4,
 "nbformat_minor": 2
}
